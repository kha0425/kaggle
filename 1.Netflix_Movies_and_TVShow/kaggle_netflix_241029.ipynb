{
 "cells": [
  {
   "cell_type": "code",
   "execution_count": 1,
   "id": "eb425214",
   "metadata": {
    "_cell_guid": "b1076dfc-b9ad-4769-8c92-a6c4dae69d19",
    "_uuid": "8f2839f25d086af736a60e9eeb907d3b93b6e0e5",
    "execution": {
     "iopub.execute_input": "2024-10-29T12:43:19.361578Z",
     "iopub.status.busy": "2024-10-29T12:43:19.361089Z",
     "iopub.status.idle": "2024-10-29T12:43:20.292285Z",
     "shell.execute_reply": "2024-10-29T12:43:20.291057Z"
    },
    "papermill": {
     "duration": 0.945021,
     "end_time": "2024-10-29T12:43:20.294765",
     "exception": false,
     "start_time": "2024-10-29T12:43:19.349744",
     "status": "completed"
    },
    "tags": []
   },
   "outputs": [],
   "source": [
    "import numpy as np # linear algebra\n",
    "import pandas as pd # data processing, CSV file I/O (e.g. pd.read_csv)\n",
    "\n",
    "data_path = './netflix_titles.csv'"
   ]
  },
  {
   "cell_type": "markdown",
   "id": "b84daf33",
   "metadata": {
    "papermill": {
     "duration": 0.007294,
     "end_time": "2024-10-29T12:43:20.309925",
     "exception": false,
     "start_time": "2024-10-29T12:43:20.302631",
     "status": "completed"
    },
    "tags": []
   },
   "source": [
    "# 캐글 데이터셋을 이용한 간단 실습"
   ]
  },
  {
   "cell_type": "markdown",
   "id": "a1afb807",
   "metadata": {
    "papermill": {
     "duration": 0.007348,
     "end_time": "2024-10-29T12:43:20.324847",
     "exception": false,
     "start_time": "2024-10-29T12:43:20.317499",
     "status": "completed"
    },
    "tags": []
   },
   "source": [
    "## 1. Datasets에 접속하여 netflix-shows 검색 "
   ]
  },
  {
   "cell_type": "code",
   "execution_count": 2,
   "id": "9b2a0b01",
   "metadata": {
    "execution": {
     "iopub.execute_input": "2024-10-29T12:43:20.342449Z",
     "iopub.status.busy": "2024-10-29T12:43:20.341311Z",
     "iopub.status.idle": "2024-10-29T12:43:20.536112Z",
     "shell.execute_reply": "2024-10-29T12:43:20.534841Z"
    },
    "papermill": {
     "duration": 0.206235,
     "end_time": "2024-10-29T12:43:20.538661",
     "exception": false,
     "start_time": "2024-10-29T12:43:20.332426",
     "status": "completed"
    },
    "tags": []
   },
   "outputs": [
    {
     "data": {
      "text/html": [
       "<div>\n",
       "<style scoped>\n",
       "    .dataframe tbody tr th:only-of-type {\n",
       "        vertical-align: middle;\n",
       "    }\n",
       "\n",
       "    .dataframe tbody tr th {\n",
       "        vertical-align: top;\n",
       "    }\n",
       "\n",
       "    .dataframe thead th {\n",
       "        text-align: right;\n",
       "    }\n",
       "</style>\n",
       "<table border=\"1\" class=\"dataframe\">\n",
       "  <thead>\n",
       "    <tr style=\"text-align: right;\">\n",
       "      <th></th>\n",
       "      <th>show_id</th>\n",
       "      <th>type</th>\n",
       "      <th>title</th>\n",
       "      <th>director</th>\n",
       "      <th>cast</th>\n",
       "      <th>country</th>\n",
       "      <th>date_added</th>\n",
       "      <th>release_year</th>\n",
       "      <th>rating</th>\n",
       "      <th>duration</th>\n",
       "      <th>listed_in</th>\n",
       "      <th>description</th>\n",
       "    </tr>\n",
       "  </thead>\n",
       "  <tbody>\n",
       "    <tr>\n",
       "      <th>0</th>\n",
       "      <td>s1</td>\n",
       "      <td>Movie</td>\n",
       "      <td>Dick Johnson Is Dead</td>\n",
       "      <td>Kirsten Johnson</td>\n",
       "      <td>NaN</td>\n",
       "      <td>United States</td>\n",
       "      <td>September 25, 2021</td>\n",
       "      <td>2020</td>\n",
       "      <td>PG-13</td>\n",
       "      <td>90 min</td>\n",
       "      <td>Documentaries</td>\n",
       "      <td>As her father nears the end of his life, filmm...</td>\n",
       "    </tr>\n",
       "    <tr>\n",
       "      <th>1</th>\n",
       "      <td>s2</td>\n",
       "      <td>TV Show</td>\n",
       "      <td>Blood &amp; Water</td>\n",
       "      <td>NaN</td>\n",
       "      <td>Ama Qamata, Khosi Ngema, Gail Mabalane, Thaban...</td>\n",
       "      <td>South Africa</td>\n",
       "      <td>September 24, 2021</td>\n",
       "      <td>2021</td>\n",
       "      <td>TV-MA</td>\n",
       "      <td>2 Seasons</td>\n",
       "      <td>International TV Shows, TV Dramas, TV Mysteries</td>\n",
       "      <td>After crossing paths at a party, a Cape Town t...</td>\n",
       "    </tr>\n",
       "    <tr>\n",
       "      <th>2</th>\n",
       "      <td>s3</td>\n",
       "      <td>TV Show</td>\n",
       "      <td>Ganglands</td>\n",
       "      <td>Julien Leclercq</td>\n",
       "      <td>Sami Bouajila, Tracy Gotoas, Samuel Jouy, Nabi...</td>\n",
       "      <td>NaN</td>\n",
       "      <td>September 24, 2021</td>\n",
       "      <td>2021</td>\n",
       "      <td>TV-MA</td>\n",
       "      <td>1 Season</td>\n",
       "      <td>Crime TV Shows, International TV Shows, TV Act...</td>\n",
       "      <td>To protect his family from a powerful drug lor...</td>\n",
       "    </tr>\n",
       "    <tr>\n",
       "      <th>3</th>\n",
       "      <td>s4</td>\n",
       "      <td>TV Show</td>\n",
       "      <td>Jailbirds New Orleans</td>\n",
       "      <td>NaN</td>\n",
       "      <td>NaN</td>\n",
       "      <td>NaN</td>\n",
       "      <td>September 24, 2021</td>\n",
       "      <td>2021</td>\n",
       "      <td>TV-MA</td>\n",
       "      <td>1 Season</td>\n",
       "      <td>Docuseries, Reality TV</td>\n",
       "      <td>Feuds, flirtations and toilet talk go down amo...</td>\n",
       "    </tr>\n",
       "    <tr>\n",
       "      <th>4</th>\n",
       "      <td>s5</td>\n",
       "      <td>TV Show</td>\n",
       "      <td>Kota Factory</td>\n",
       "      <td>NaN</td>\n",
       "      <td>Mayur More, Jitendra Kumar, Ranjan Raj, Alam K...</td>\n",
       "      <td>India</td>\n",
       "      <td>September 24, 2021</td>\n",
       "      <td>2021</td>\n",
       "      <td>TV-MA</td>\n",
       "      <td>2 Seasons</td>\n",
       "      <td>International TV Shows, Romantic TV Shows, TV ...</td>\n",
       "      <td>In a city of coaching centers known to train I...</td>\n",
       "    </tr>\n",
       "  </tbody>\n",
       "</table>\n",
       "</div>"
      ],
      "text/plain": [
       "  show_id     type                  title         director  \\\n",
       "0      s1    Movie   Dick Johnson Is Dead  Kirsten Johnson   \n",
       "1      s2  TV Show          Blood & Water              NaN   \n",
       "2      s3  TV Show              Ganglands  Julien Leclercq   \n",
       "3      s4  TV Show  Jailbirds New Orleans              NaN   \n",
       "4      s5  TV Show           Kota Factory              NaN   \n",
       "\n",
       "                                                cast        country  \\\n",
       "0                                                NaN  United States   \n",
       "1  Ama Qamata, Khosi Ngema, Gail Mabalane, Thaban...   South Africa   \n",
       "2  Sami Bouajila, Tracy Gotoas, Samuel Jouy, Nabi...            NaN   \n",
       "3                                                NaN            NaN   \n",
       "4  Mayur More, Jitendra Kumar, Ranjan Raj, Alam K...          India   \n",
       "\n",
       "           date_added  release_year rating   duration  \\\n",
       "0  September 25, 2021          2020  PG-13     90 min   \n",
       "1  September 24, 2021          2021  TV-MA  2 Seasons   \n",
       "2  September 24, 2021          2021  TV-MA   1 Season   \n",
       "3  September 24, 2021          2021  TV-MA   1 Season   \n",
       "4  September 24, 2021          2021  TV-MA  2 Seasons   \n",
       "\n",
       "                                           listed_in  \\\n",
       "0                                      Documentaries   \n",
       "1    International TV Shows, TV Dramas, TV Mysteries   \n",
       "2  Crime TV Shows, International TV Shows, TV Act...   \n",
       "3                             Docuseries, Reality TV   \n",
       "4  International TV Shows, Romantic TV Shows, TV ...   \n",
       "\n",
       "                                         description  \n",
       "0  As her father nears the end of his life, filmm...  \n",
       "1  After crossing paths at a party, a Cape Town t...  \n",
       "2  To protect his family from a powerful drug lor...  \n",
       "3  Feuds, flirtations and toilet talk go down amo...  \n",
       "4  In a city of coaching centers known to train I...  "
      ]
     },
     "execution_count": 2,
     "metadata": {},
     "output_type": "execute_result"
    }
   ],
   "source": [
    "import pandas as pd\n",
    "data = pd.read_csv(data_path)\n",
    "data.head()"
   ]
  },
  {
   "cell_type": "code",
   "execution_count": 3,
   "id": "10b22e4a",
   "metadata": {
    "execution": {
     "iopub.execute_input": "2024-10-29T12:43:20.557027Z",
     "iopub.status.busy": "2024-10-29T12:43:20.556533Z",
     "iopub.status.idle": "2024-10-29T12:43:20.564056Z",
     "shell.execute_reply": "2024-10-29T12:43:20.562782Z"
    },
    "papermill": {
     "duration": 0.019529,
     "end_time": "2024-10-29T12:43:20.566473",
     "exception": false,
     "start_time": "2024-10-29T12:43:20.546944",
     "status": "completed"
    },
    "tags": []
   },
   "outputs": [
    {
     "data": {
      "text/plain": [
       "(8807, 12)"
      ]
     },
     "execution_count": 3,
     "metadata": {},
     "output_type": "execute_result"
    }
   ],
   "source": [
    "data.shape"
   ]
  },
  {
   "cell_type": "markdown",
   "id": "0def9757",
   "metadata": {
    "papermill": {
     "duration": 0.00893,
     "end_time": "2024-10-29T12:43:20.583582",
     "exception": false,
     "start_time": "2024-10-29T12:43:20.574652",
     "status": "completed"
    },
    "tags": []
   },
   "source": [
    "## 2. type 항목은 데이터가 TV Show인지, Movie인지를 나타낸다. 이를 수치화 하는 코드를 작성하여라."
   ]
  },
  {
   "cell_type": "code",
   "execution_count": 4,
   "id": "b83dc527",
   "metadata": {
    "execution": {
     "iopub.execute_input": "2024-10-29T12:43:20.601724Z",
     "iopub.status.busy": "2024-10-29T12:43:20.601284Z",
     "iopub.status.idle": "2024-10-29T12:43:20.618207Z",
     "shell.execute_reply": "2024-10-29T12:43:20.616929Z"
    },
    "papermill": {
     "duration": 0.029399,
     "end_time": "2024-10-29T12:43:20.621173",
     "exception": false,
     "start_time": "2024-10-29T12:43:20.591774",
     "status": "completed"
    },
    "tags": []
   },
   "outputs": [
    {
     "data": {
      "text/plain": [
       "array([0., 1., 1., ..., 0., 0., 0.])"
      ]
     },
     "execution_count": 4,
     "metadata": {},
     "output_type": "execute_result"
    }
   ],
   "source": [
    "import numpy as np\n",
    "\n",
    "cnt = 0\n",
    "data_np = np.zeros([data.shape[0],12])\n",
    "type_num = np.zeros([data_np.shape[0]])\n",
    "\n",
    "# data_np\n",
    "\n",
    "for t in data['type']:\n",
    "    if t == 'TV Show':\n",
    "        type_num[cnt] = 1\n",
    "    cnt += 1\n",
    "type_num"
   ]
  },
  {
   "cell_type": "markdown",
   "id": "62f0e5ef",
   "metadata": {
    "papermill": {
     "duration": 0.008193,
     "end_time": "2024-10-29T12:43:20.637932",
     "exception": false,
     "start_time": "2024-10-29T12:43:20.629739",
     "status": "completed"
    },
    "tags": []
   },
   "source": [
    "## 3. country는 제작국가를 의미한다. 이를 수치화하는 코드를 작성하여라."
   ]
  },
  {
   "cell_type": "code",
   "execution_count": 5,
   "id": "b2148248",
   "metadata": {
    "execution": {
     "iopub.execute_input": "2024-10-29T12:43:20.656999Z",
     "iopub.status.busy": "2024-10-29T12:43:20.656531Z",
     "iopub.status.idle": "2024-10-29T12:43:20.666443Z",
     "shell.execute_reply": "2024-10-29T12:43:20.665224Z"
    },
    "papermill": {
     "duration": 0.022534,
     "end_time": "2024-10-29T12:43:20.668855",
     "exception": false,
     "start_time": "2024-10-29T12:43:20.646321",
     "status": "completed"
    },
    "tags": []
   },
   "outputs": [
    {
     "data": {
      "text/plain": [
       "831"
      ]
     },
     "execution_count": 5,
     "metadata": {},
     "output_type": "execute_result"
    }
   ],
   "source": [
    "data['country'].isnull().sum()"
   ]
  },
  {
   "cell_type": "code",
   "execution_count": 6,
   "id": "69ce22a2",
   "metadata": {
    "execution": {
     "iopub.execute_input": "2024-10-29T12:43:20.688304Z",
     "iopub.status.busy": "2024-10-29T12:43:20.687111Z",
     "iopub.status.idle": "2024-10-29T12:43:20.698940Z",
     "shell.execute_reply": "2024-10-29T12:43:20.697862Z"
    },
    "papermill": {
     "duration": 0.023944,
     "end_time": "2024-10-29T12:43:20.701301",
     "exception": false,
     "start_time": "2024-10-29T12:43:20.677357",
     "status": "completed"
    },
    "tags": []
   },
   "outputs": [
    {
     "data": {
      "text/plain": [
       "0"
      ]
     },
     "execution_count": 6,
     "metadata": {},
     "output_type": "execute_result"
    }
   ],
   "source": [
    "# 결측치 채우기\n",
    "data['country'] = data['country'].fillna('Unknown')\n",
    "data['country'].isnull().sum()"
   ]
  },
  {
   "cell_type": "code",
   "execution_count": 7,
   "id": "237f5d9b",
   "metadata": {
    "execution": {
     "iopub.execute_input": "2024-10-29T12:43:20.720420Z",
     "iopub.status.busy": "2024-10-29T12:43:20.720011Z",
     "iopub.status.idle": "2024-10-29T12:43:20.737765Z",
     "shell.execute_reply": "2024-10-29T12:43:20.736419Z"
    },
    "papermill": {
     "duration": 0.030452,
     "end_time": "2024-10-29T12:43:20.740450",
     "exception": false,
     "start_time": "2024-10-29T12:43:20.709998",
     "status": "completed"
    },
    "tags": []
   },
   "outputs": [
    {
     "data": {
      "text/html": [
       "<div>\n",
       "<style scoped>\n",
       "    .dataframe tbody tr th:only-of-type {\n",
       "        vertical-align: middle;\n",
       "    }\n",
       "\n",
       "    .dataframe tbody tr th {\n",
       "        vertical-align: top;\n",
       "    }\n",
       "\n",
       "    .dataframe thead th {\n",
       "        text-align: right;\n",
       "    }\n",
       "</style>\n",
       "<table border=\"1\" class=\"dataframe\">\n",
       "  <thead>\n",
       "    <tr style=\"text-align: right;\">\n",
       "      <th></th>\n",
       "      <th>show_id</th>\n",
       "      <th>type</th>\n",
       "      <th>title</th>\n",
       "      <th>director</th>\n",
       "      <th>cast</th>\n",
       "      <th>country</th>\n",
       "      <th>date_added</th>\n",
       "      <th>release_year</th>\n",
       "      <th>rating</th>\n",
       "      <th>duration</th>\n",
       "      <th>listed_in</th>\n",
       "      <th>description</th>\n",
       "    </tr>\n",
       "  </thead>\n",
       "  <tbody>\n",
       "    <tr>\n",
       "      <th>0</th>\n",
       "      <td>s1</td>\n",
       "      <td>Movie</td>\n",
       "      <td>Dick Johnson Is Dead</td>\n",
       "      <td>Kirsten Johnson</td>\n",
       "      <td>NaN</td>\n",
       "      <td>United States</td>\n",
       "      <td>September 25, 2021</td>\n",
       "      <td>2020</td>\n",
       "      <td>PG-13</td>\n",
       "      <td>90 min</td>\n",
       "      <td>Documentaries</td>\n",
       "      <td>As her father nears the end of his life, filmm...</td>\n",
       "    </tr>\n",
       "    <tr>\n",
       "      <th>1</th>\n",
       "      <td>s2</td>\n",
       "      <td>TV Show</td>\n",
       "      <td>Blood &amp; Water</td>\n",
       "      <td>NaN</td>\n",
       "      <td>Ama Qamata, Khosi Ngema, Gail Mabalane, Thaban...</td>\n",
       "      <td>South Africa</td>\n",
       "      <td>September 24, 2021</td>\n",
       "      <td>2021</td>\n",
       "      <td>TV-MA</td>\n",
       "      <td>2 Seasons</td>\n",
       "      <td>International TV Shows, TV Dramas, TV Mysteries</td>\n",
       "      <td>After crossing paths at a party, a Cape Town t...</td>\n",
       "    </tr>\n",
       "    <tr>\n",
       "      <th>2</th>\n",
       "      <td>s3</td>\n",
       "      <td>TV Show</td>\n",
       "      <td>Ganglands</td>\n",
       "      <td>Julien Leclercq</td>\n",
       "      <td>Sami Bouajila, Tracy Gotoas, Samuel Jouy, Nabi...</td>\n",
       "      <td>Unknown</td>\n",
       "      <td>September 24, 2021</td>\n",
       "      <td>2021</td>\n",
       "      <td>TV-MA</td>\n",
       "      <td>1 Season</td>\n",
       "      <td>Crime TV Shows, International TV Shows, TV Act...</td>\n",
       "      <td>To protect his family from a powerful drug lor...</td>\n",
       "    </tr>\n",
       "    <tr>\n",
       "      <th>3</th>\n",
       "      <td>s4</td>\n",
       "      <td>TV Show</td>\n",
       "      <td>Jailbirds New Orleans</td>\n",
       "      <td>NaN</td>\n",
       "      <td>NaN</td>\n",
       "      <td>Unknown</td>\n",
       "      <td>September 24, 2021</td>\n",
       "      <td>2021</td>\n",
       "      <td>TV-MA</td>\n",
       "      <td>1 Season</td>\n",
       "      <td>Docuseries, Reality TV</td>\n",
       "      <td>Feuds, flirtations and toilet talk go down amo...</td>\n",
       "    </tr>\n",
       "    <tr>\n",
       "      <th>4</th>\n",
       "      <td>s5</td>\n",
       "      <td>TV Show</td>\n",
       "      <td>Kota Factory</td>\n",
       "      <td>NaN</td>\n",
       "      <td>Mayur More, Jitendra Kumar, Ranjan Raj, Alam K...</td>\n",
       "      <td>India</td>\n",
       "      <td>September 24, 2021</td>\n",
       "      <td>2021</td>\n",
       "      <td>TV-MA</td>\n",
       "      <td>2 Seasons</td>\n",
       "      <td>International TV Shows, Romantic TV Shows, TV ...</td>\n",
       "      <td>In a city of coaching centers known to train I...</td>\n",
       "    </tr>\n",
       "  </tbody>\n",
       "</table>\n",
       "</div>"
      ],
      "text/plain": [
       "  show_id     type                  title         director  \\\n",
       "0      s1    Movie   Dick Johnson Is Dead  Kirsten Johnson   \n",
       "1      s2  TV Show          Blood & Water              NaN   \n",
       "2      s3  TV Show              Ganglands  Julien Leclercq   \n",
       "3      s4  TV Show  Jailbirds New Orleans              NaN   \n",
       "4      s5  TV Show           Kota Factory              NaN   \n",
       "\n",
       "                                                cast        country  \\\n",
       "0                                                NaN  United States   \n",
       "1  Ama Qamata, Khosi Ngema, Gail Mabalane, Thaban...   South Africa   \n",
       "2  Sami Bouajila, Tracy Gotoas, Samuel Jouy, Nabi...        Unknown   \n",
       "3                                                NaN        Unknown   \n",
       "4  Mayur More, Jitendra Kumar, Ranjan Raj, Alam K...          India   \n",
       "\n",
       "           date_added  release_year rating   duration  \\\n",
       "0  September 25, 2021          2020  PG-13     90 min   \n",
       "1  September 24, 2021          2021  TV-MA  2 Seasons   \n",
       "2  September 24, 2021          2021  TV-MA   1 Season   \n",
       "3  September 24, 2021          2021  TV-MA   1 Season   \n",
       "4  September 24, 2021          2021  TV-MA  2 Seasons   \n",
       "\n",
       "                                           listed_in  \\\n",
       "0                                      Documentaries   \n",
       "1    International TV Shows, TV Dramas, TV Mysteries   \n",
       "2  Crime TV Shows, International TV Shows, TV Act...   \n",
       "3                             Docuseries, Reality TV   \n",
       "4  International TV Shows, Romantic TV Shows, TV ...   \n",
       "\n",
       "                                         description  \n",
       "0  As her father nears the end of his life, filmm...  \n",
       "1  After crossing paths at a party, a Cape Town t...  \n",
       "2  To protect his family from a powerful drug lor...  \n",
       "3  Feuds, flirtations and toilet talk go down amo...  \n",
       "4  In a city of coaching centers known to train I...  "
      ]
     },
     "execution_count": 7,
     "metadata": {},
     "output_type": "execute_result"
    }
   ],
   "source": [
    "data.head()"
   ]
  },
  {
   "cell_type": "code",
   "execution_count": 8,
   "id": "35fc80c6",
   "metadata": {
    "execution": {
     "iopub.execute_input": "2024-10-29T12:43:20.760987Z",
     "iopub.status.busy": "2024-10-29T12:43:20.760178Z",
     "iopub.status.idle": "2024-10-29T12:43:20.777330Z",
     "shell.execute_reply": "2024-10-29T12:43:20.776099Z"
    },
    "papermill": {
     "duration": 0.030129,
     "end_time": "2024-10-29T12:43:20.779954",
     "exception": false,
     "start_time": "2024-10-29T12:43:20.749825",
     "status": "completed"
    },
    "tags": []
   },
   "outputs": [
    {
     "data": {
      "text/plain": [
       "country\n",
       "United States                             2818\n",
       "India                                      972\n",
       "Unknown                                    831\n",
       "United Kingdom                             419\n",
       "Japan                                      245\n",
       "                                          ... \n",
       "Romania, Bulgaria, Hungary                   1\n",
       "Uruguay, Guatemala                           1\n",
       "France, Senegal, Belgium                     1\n",
       "Mexico, United States, Spain, Colombia       1\n",
       "United Arab Emirates, Jordan                 1\n",
       "Name: count, Length: 749, dtype: int64"
      ]
     },
     "execution_count": 8,
     "metadata": {},
     "output_type": "execute_result"
    }
   ],
   "source": [
    "data['country'].value_counts()"
   ]
  },
  {
   "cell_type": "code",
   "execution_count": 9,
   "id": "51bae5ef",
   "metadata": {
    "execution": {
     "iopub.execute_input": "2024-10-29T12:43:20.800356Z",
     "iopub.status.busy": "2024-10-29T12:43:20.799949Z",
     "iopub.status.idle": "2024-10-29T12:43:20.813698Z",
     "shell.execute_reply": "2024-10-29T12:43:20.812517Z"
    },
    "papermill": {
     "duration": 0.026671,
     "end_time": "2024-10-29T12:43:20.816046",
     "exception": false,
     "start_time": "2024-10-29T12:43:20.789375",
     "status": "completed"
    },
    "tags": []
   },
   "outputs": [
    {
     "data": {
      "text/plain": [
       "['United States',\n",
       " 'South Africa',\n",
       " 'Unknown',\n",
       " 'Unknown',\n",
       " 'India',\n",
       " 'Unknown',\n",
       " 'Unknown',\n",
       " 'United States,Ghana,Burkina Faso,United Kingdom,Germany,Ethiopia',\n",
       " 'United Kingdom',\n",
       " 'United States',\n",
       " 'Unknown',\n",
       " 'Unknown',\n",
       " 'Germany,Czech Republic',\n",
       " 'Unknown',\n",
       " 'Unknown',\n",
       " 'United States',\n",
       " 'Unknown',\n",
       " 'Mexico',\n",
       " 'Unknown',\n",
       " 'Unknown',\n",
       " 'Unknown',\n",
       " 'Turkey',\n",
       " 'Unknown',\n",
       " 'Unknown',\n",
       " 'India',\n",
       " 'Australia',\n",
       " 'Unknown',\n",
       " 'United States',\n",
       " 'United States',\n",
       " 'United States,India,France',\n",
       " 'Unknown',\n",
       " 'Unknown',\n",
       " 'United Kingdom',\n",
       " 'Unknown',\n",
       " 'Unknown',\n",
       " 'Unknown',\n",
       " 'Unknown',\n",
       " 'Finland',\n",
       " 'China,Canada,United States',\n",
       " 'India',\n",
       " 'United States',\n",
       " 'United States',\n",
       " 'United States',\n",
       " 'United States',\n",
       " 'United States',\n",
       " 'Unknown',\n",
       " 'South Africa,United States,Japan',\n",
       " 'Unknown',\n",
       " 'United States',\n",
       " 'Nigeria']"
      ]
     },
     "execution_count": 9,
     "metadata": {},
     "output_type": "execute_result"
    }
   ],
   "source": [
    "# 여러 나라 같이 있는 부분 나누기\n",
    "country_info = []\n",
    "country_data = [i.replace(', ',',').replace(' ,',',') for i in data['country']]\n",
    "country_data[:50]"
   ]
  },
  {
   "cell_type": "code",
   "execution_count": 10,
   "id": "8cac304c",
   "metadata": {
    "execution": {
     "iopub.execute_input": "2024-10-29T12:43:20.837373Z",
     "iopub.status.busy": "2024-10-29T12:43:20.836514Z",
     "iopub.status.idle": "2024-10-29T12:43:20.851052Z",
     "shell.execute_reply": "2024-10-29T12:43:20.849785Z"
    },
    "papermill": {
     "duration": 0.027618,
     "end_time": "2024-10-29T12:43:20.853423",
     "exception": false,
     "start_time": "2024-10-29T12:43:20.825805",
     "status": "completed"
    },
    "tags": []
   },
   "outputs": [
    {
     "name": "stdout",
     "output_type": "stream",
     "text": [
      "['United States', 'South Africa', 'Unknown', 'India', 'Ghana', 'Burkina Faso', 'United Kingdom', 'Germany', 'Ethiopia', 'Czech Republic', 'Mexico', 'Turkey', 'Australia', 'France', 'Finland', 'China', 'Canada', 'Japan', 'Nigeria', 'Spain', 'Belgium', 'South Korea', 'Singapore', 'Italy', 'Romania', 'Argentina', 'Venezuela', 'Hong Kong', 'Russia', '', 'Ireland', 'Nepal', 'New Zealand', 'Brazil', 'Greece', 'Jordan', 'Colombia', 'Switzerland', 'Israel', 'Taiwan', 'Bulgaria', 'Algeria', 'Poland', 'Saudi Arabia', 'Thailand', 'Indonesia', 'Egypt', 'Denmark', 'Kuwait', 'Netherlands', 'Malaysia', 'Vietnam', 'Hungary', 'Sweden', 'Lebanon', 'Syria', 'Philippines', 'Iceland', 'United Arab Emirates', 'Norway', 'Qatar', 'Mauritius', 'Austria', 'Cameroon', 'Palestine', 'Uruguay', 'Kenya', 'Chile', 'Luxembourg', 'Cambodia', 'Bangladesh', 'Portugal', 'Cayman Islands', 'Senegal', 'Serbia', 'Malta', 'Namibia', 'Angola', 'Peru', 'Mozambique', 'Belarus', 'Zimbabwe', 'Puerto Rico', 'Pakistan', 'Cyprus', 'Guatemala', 'Iraq', 'Malawi', 'Paraguay', 'Croatia', 'Iran', 'West Germany', 'Albania', 'Georgia', 'Soviet Union', 'Morocco', 'Slovakia', 'Ukraine', 'Bermuda', 'Ecuador', 'Armenia', 'Mongolia', 'Bahamas', 'Sri Lanka', 'Latvia', 'Liechtenstein', 'Cuba', 'Nicaragua', 'Slovenia', 'Dominican Republic', 'Samoa', 'Azerbaijan', 'Botswana', 'Vatican City', 'Jamaica', 'Kazakhstan', 'Lithuania', 'Afghanistan', 'Somalia', 'Sudan', 'Panama', 'Uganda', 'East Germany', 'Montenegro']\n",
      "124\n"
     ]
    }
   ],
   "source": [
    "# 나라 중복 없이 저장\n",
    "for c in country_data:\n",
    "    c_split = c.split(',')\n",
    "#     print(c_split)\n",
    "    for cc in c_split:\n",
    "        if cc not in country_info:\n",
    "            country_info.append(cc) # 없는 나라만 추가\n",
    "            \n",
    "print(country_info)\n",
    "print(len(country_info))"
   ]
  },
  {
   "cell_type": "code",
   "execution_count": 11,
   "id": "b78fa16d",
   "metadata": {
    "execution": {
     "iopub.execute_input": "2024-10-29T12:43:20.874169Z",
     "iopub.status.busy": "2024-10-29T12:43:20.873763Z",
     "iopub.status.idle": "2024-10-29T12:43:20.880169Z",
     "shell.execute_reply": "2024-10-29T12:43:20.878972Z"
    },
    "papermill": {
     "duration": 0.019649,
     "end_time": "2024-10-29T12:43:20.882608",
     "exception": false,
     "start_time": "2024-10-29T12:43:20.862959",
     "status": "completed"
    },
    "tags": []
   },
   "outputs": [
    {
     "name": "stdout",
     "output_type": "stream",
     "text": [
      "[0, 1, 2, 3, 4, 5, 6, 7, 8, 9, 10, 11, 12, 13, 14, 15, 16, 17, 18, 19, 20, 21, 22, 23, 24, 25, 26, 27, 28, 29, 30, 31, 32, 33, 34, 35, 36, 37, 38, 39, 40, 41, 42, 43, 44, 45, 46, 47, 48, 49, 50, 51, 52, 53, 54, 55, 56, 57, 58, 59, 60, 61, 62, 63, 64, 65, 66, 67, 68, 69, 70, 71, 72, 73, 74, 75, 76, 77, 78, 79, 80, 81, 82, 83, 84, 85, 86, 87, 88, 89, 90, 91, 92, 93, 94, 95, 96, 97, 98, 99, 100, 101, 102, 103, 104, 105, 106, 107, 108, 109, 110, 111, 112, 113, 114, 115, 116, 117, 118, 119, 120, 121, 122, 123]\n"
     ]
    }
   ],
   "source": [
    "country_num = [i for i in range(len(country_info))]\n",
    "print(country_num)"
   ]
  },
  {
   "cell_type": "code",
   "execution_count": 12,
   "id": "5c6abee2",
   "metadata": {
    "execution": {
     "iopub.execute_input": "2024-10-29T12:43:20.903607Z",
     "iopub.status.busy": "2024-10-29T12:43:20.903196Z",
     "iopub.status.idle": "2024-10-29T12:43:20.909501Z",
     "shell.execute_reply": "2024-10-29T12:43:20.908355Z"
    },
    "papermill": {
     "duration": 0.020287,
     "end_time": "2024-10-29T12:43:20.912549",
     "exception": false,
     "start_time": "2024-10-29T12:43:20.892262",
     "status": "completed"
    },
    "tags": []
   },
   "outputs": [
    {
     "name": "stdout",
     "output_type": "stream",
     "text": [
      "{'United States': 0, 'South Africa': 1, 'Unknown': 2, 'India': 3, 'Ghana': 4, 'Burkina Faso': 5, 'United Kingdom': 6, 'Germany': 7, 'Ethiopia': 8, 'Czech Republic': 9, 'Mexico': 10, 'Turkey': 11, 'Australia': 12, 'France': 13, 'Finland': 14, 'China': 15, 'Canada': 16, 'Japan': 17, 'Nigeria': 18, 'Spain': 19, 'Belgium': 20, 'South Korea': 21, 'Singapore': 22, 'Italy': 23, 'Romania': 24, 'Argentina': 25, 'Venezuela': 26, 'Hong Kong': 27, 'Russia': 28, '': 29, 'Ireland': 30, 'Nepal': 31, 'New Zealand': 32, 'Brazil': 33, 'Greece': 34, 'Jordan': 35, 'Colombia': 36, 'Switzerland': 37, 'Israel': 38, 'Taiwan': 39, 'Bulgaria': 40, 'Algeria': 41, 'Poland': 42, 'Saudi Arabia': 43, 'Thailand': 44, 'Indonesia': 45, 'Egypt': 46, 'Denmark': 47, 'Kuwait': 48, 'Netherlands': 49, 'Malaysia': 50, 'Vietnam': 51, 'Hungary': 52, 'Sweden': 53, 'Lebanon': 54, 'Syria': 55, 'Philippines': 56, 'Iceland': 57, 'United Arab Emirates': 58, 'Norway': 59, 'Qatar': 60, 'Mauritius': 61, 'Austria': 62, 'Cameroon': 63, 'Palestine': 64, 'Uruguay': 65, 'Kenya': 66, 'Chile': 67, 'Luxembourg': 68, 'Cambodia': 69, 'Bangladesh': 70, 'Portugal': 71, 'Cayman Islands': 72, 'Senegal': 73, 'Serbia': 74, 'Malta': 75, 'Namibia': 76, 'Angola': 77, 'Peru': 78, 'Mozambique': 79, 'Belarus': 80, 'Zimbabwe': 81, 'Puerto Rico': 82, 'Pakistan': 83, 'Cyprus': 84, 'Guatemala': 85, 'Iraq': 86, 'Malawi': 87, 'Paraguay': 88, 'Croatia': 89, 'Iran': 90, 'West Germany': 91, 'Albania': 92, 'Georgia': 93, 'Soviet Union': 94, 'Morocco': 95, 'Slovakia': 96, 'Ukraine': 97, 'Bermuda': 98, 'Ecuador': 99, 'Armenia': 100, 'Mongolia': 101, 'Bahamas': 102, 'Sri Lanka': 103, 'Latvia': 104, 'Liechtenstein': 105, 'Cuba': 106, 'Nicaragua': 107, 'Slovenia': 108, 'Dominican Republic': 109, 'Samoa': 110, 'Azerbaijan': 111, 'Botswana': 112, 'Vatican City': 113, 'Jamaica': 114, 'Kazakhstan': 115, 'Lithuania': 116, 'Afghanistan': 117, 'Somalia': 118, 'Sudan': 119, 'Panama': 120, 'Uganda': 121, 'East Germany': 122, 'Montenegro': 123}\n"
     ]
    }
   ],
   "source": [
    "country_dict = {}\n",
    "\n",
    "for k, v in zip(country_info, country_num):\n",
    "    country_dict[k] = v # {'나라이름':숫자}\n",
    "    \n",
    "print(country_dict)"
   ]
  },
  {
   "cell_type": "code",
   "execution_count": 13,
   "id": "39045e54",
   "metadata": {
    "execution": {
     "iopub.execute_input": "2024-10-29T12:43:20.934458Z",
     "iopub.status.busy": "2024-10-29T12:43:20.934056Z",
     "iopub.status.idle": "2024-10-29T12:43:20.943207Z",
     "shell.execute_reply": "2024-10-29T12:43:20.942117Z"
    },
    "papermill": {
     "duration": 0.023094,
     "end_time": "2024-10-29T12:43:20.945711",
     "exception": false,
     "start_time": "2024-10-29T12:43:20.922617",
     "status": "completed"
    },
    "tags": []
   },
   "outputs": [
    {
     "data": {
      "text/plain": [
       "0       United States\n",
       "1        South Africa\n",
       "2             Unknown\n",
       "3             Unknown\n",
       "4               India\n",
       "            ...      \n",
       "8802    United States\n",
       "8803          Unknown\n",
       "8804    United States\n",
       "8805    United States\n",
       "8806            India\n",
       "Name: country, Length: 8807, dtype: object"
      ]
     },
     "execution_count": 13,
     "metadata": {},
     "output_type": "execute_result"
    }
   ],
   "source": [
    "data['country'] "
   ]
  },
  {
   "cell_type": "code",
   "execution_count": 14,
   "id": "6598f9b9",
   "metadata": {
    "execution": {
     "iopub.execute_input": "2024-10-29T12:43:20.967768Z",
     "iopub.status.busy": "2024-10-29T12:43:20.967371Z",
     "iopub.status.idle": "2024-10-29T12:43:20.982998Z",
     "shell.execute_reply": "2024-10-29T12:43:20.981756Z"
    },
    "papermill": {
     "duration": 0.029781,
     "end_time": "2024-10-29T12:43:20.985719",
     "exception": false,
     "start_time": "2024-10-29T12:43:20.955938",
     "status": "completed"
    },
    "tags": []
   },
   "outputs": [
    {
     "name": "stdout",
     "output_type": "stream",
     "text": [
      "{'United States': 0, 'South Africa': 1, 'Unknown': 2, 'India': 3, 'Ghana': 4, 'Burkina Faso': 5, 'United Kingdom': 6, 'Germany': 7, 'Ethiopia': 8, 'Czech Republic': 9, 'Mexico': 10, 'Turkey': 11, 'Australia': 12, 'France': 13, 'Finland': 14, 'China': 15, 'Canada': 16, 'Japan': 17, 'Nigeria': 18, 'Spain': 19, 'Belgium': 20, 'South Korea': 21, 'Singapore': 22, 'Italy': 23, 'Romania': 24, 'Argentina': 25, 'Venezuela': 26, 'Hong Kong': 27, 'Russia': 28, '': 29, 'Ireland': 30, 'Nepal': 31, 'New Zealand': 32, 'Brazil': 33, 'Greece': 34, 'Jordan': 35, 'Colombia': 36, 'Switzerland': 37, 'Israel': 38, 'Taiwan': 39, 'Bulgaria': 40, 'Algeria': 41, 'Poland': 42, 'Saudi Arabia': 43, 'Thailand': 44, 'Indonesia': 45, 'Egypt': 46, 'Denmark': 47, 'Kuwait': 48, 'Netherlands': 49, 'Malaysia': 50, 'Vietnam': 51, 'Hungary': 52, 'Sweden': 53, 'Lebanon': 54, 'Syria': 55, 'Philippines': 56, 'Iceland': 57, 'United Arab Emirates': 58, 'Norway': 59, 'Qatar': 60, 'Mauritius': 61, 'Austria': 62, 'Cameroon': 63, 'Palestine': 64, 'Uruguay': 65, 'Kenya': 66, 'Chile': 67, 'Luxembourg': 68, 'Cambodia': 69, 'Bangladesh': 70, 'Portugal': 71, 'Cayman Islands': 72, 'Senegal': 73, 'Serbia': 74, 'Malta': 75, 'Namibia': 76, 'Angola': 77, 'Peru': 78, 'Mozambique': 79, 'Belarus': 80, 'Zimbabwe': 81, 'Puerto Rico': 82, 'Pakistan': 83, 'Cyprus': 84, 'Guatemala': 85, 'Iraq': 86, 'Malawi': 87, 'Paraguay': 88, 'Croatia': 89, 'Iran': 90, 'West Germany': 91, 'Albania': 92, 'Georgia': 93, 'Soviet Union': 94, 'Morocco': 95, 'Slovakia': 96, 'Ukraine': 97, 'Bermuda': 98, 'Ecuador': 99, 'Armenia': 100, 'Mongolia': 101, 'Bahamas': 102, 'Sri Lanka': 103, 'Latvia': 104, 'Liechtenstein': 105, 'Cuba': 106, 'Nicaragua': 107, 'Slovenia': 108, 'Dominican Republic': 109, 'Samoa': 110, 'Azerbaijan': 111, 'Botswana': 112, 'Vatican City': 113, 'Jamaica': 114, 'Kazakhstan': 115, 'Lithuania': 116, 'Afghanistan': 117, 'Somalia': 118, 'Sudan': 119, 'Panama': 120, 'Uganda': 121, 'East Germany': 122, 'Montenegro': 123}\n",
      "124\n"
     ]
    }
   ],
   "source": [
    "for dc in data['country']:\n",
    "    dc = dc.split(',')\n",
    "#     print(dc)\n",
    "    \n",
    "    for d in dc:\n",
    "        d = country_dict[d.lstrip()] # lstrip():왼쪽 공백 제거\n",
    "print(country_dict)\n",
    "print(len(country_dict))"
   ]
  },
  {
   "cell_type": "markdown",
   "id": "02a98f32",
   "metadata": {
    "papermill": {
     "duration": 0.009823,
     "end_time": "2024-10-29T12:43:21.005620",
     "exception": false,
     "start_time": "2024-10-29T12:43:20.995797",
     "status": "completed"
    },
    "tags": []
   },
   "source": [
    "## 4. release_year 은 개봉된 연도를 의미하며, 숫자로 저장되어 있다. 이를 정규화하는 코드를 작성하라."
   ]
  },
  {
   "cell_type": "code",
   "execution_count": 15,
   "id": "e987cd66",
   "metadata": {
    "execution": {
     "iopub.execute_input": "2024-10-29T12:43:21.027447Z",
     "iopub.status.busy": "2024-10-29T12:43:21.027025Z",
     "iopub.status.idle": "2024-10-29T12:43:21.044163Z",
     "shell.execute_reply": "2024-10-29T12:43:21.042901Z"
    },
    "papermill": {
     "duration": 0.030969,
     "end_time": "2024-10-29T12:43:21.046665",
     "exception": false,
     "start_time": "2024-10-29T12:43:21.015696",
     "status": "completed"
    },
    "tags": []
   },
   "outputs": [
    {
     "data": {
      "text/plain": [
       "count    8807.000000\n",
       "mean     2014.180198\n",
       "std         8.819312\n",
       "min      1925.000000\n",
       "25%      2013.000000\n",
       "50%      2017.000000\n",
       "75%      2019.000000\n",
       "max      2021.000000\n",
       "Name: release_year, dtype: float64"
      ]
     },
     "execution_count": 15,
     "metadata": {},
     "output_type": "execute_result"
    }
   ],
   "source": [
    "data['release_year'].describe()"
   ]
  },
  {
   "cell_type": "code",
   "execution_count": 16,
   "id": "03d093c7",
   "metadata": {
    "execution": {
     "iopub.execute_input": "2024-10-29T12:43:21.070184Z",
     "iopub.status.busy": "2024-10-29T12:43:21.069744Z",
     "iopub.status.idle": "2024-10-29T12:43:21.079450Z",
     "shell.execute_reply": "2024-10-29T12:43:21.078303Z"
    },
    "papermill": {
     "duration": 0.024406,
     "end_time": "2024-10-29T12:43:21.081801",
     "exception": false,
     "start_time": "2024-10-29T12:43:21.057395",
     "status": "completed"
    },
    "tags": []
   },
   "outputs": [
    {
     "data": {
      "text/plain": [
       "array([[0., 0., 0., ..., 0., 0., 0.],\n",
       "       [0., 0., 0., ..., 0., 0., 0.],\n",
       "       [0., 0., 0., ..., 0., 0., 0.],\n",
       "       ...,\n",
       "       [0., 0., 0., ..., 0., 0., 0.],\n",
       "       [0., 0., 0., ..., 0., 0., 0.],\n",
       "       [0., 0., 0., ..., 0., 0., 0.]])"
      ]
     },
     "execution_count": 16,
     "metadata": {},
     "output_type": "execute_result"
    }
   ],
   "source": [
    "data_np[:,7] = data['release_year']/2021\n",
    "data_np"
   ]
  },
  {
   "cell_type": "markdown",
   "id": "37c9df19",
   "metadata": {
    "papermill": {
     "duration": 0.009929,
     "end_time": "2024-10-29T12:43:21.102176",
     "exception": false,
     "start_time": "2024-10-29T12:43:21.092247",
     "status": "completed"
    },
    "tags": []
   },
   "source": [
    "## 5. 개봉연도별 영화/TV Show의 개수를 히스토그램으로 표시하여라."
   ]
  },
  {
   "cell_type": "code",
   "execution_count": 17,
   "id": "b1859473",
   "metadata": {
    "execution": {
     "iopub.execute_input": "2024-10-29T12:43:21.124619Z",
     "iopub.status.busy": "2024-10-29T12:43:21.124193Z",
     "iopub.status.idle": "2024-10-29T12:43:21.502146Z",
     "shell.execute_reply": "2024-10-29T12:43:21.501001Z"
    },
    "papermill": {
     "duration": 0.392091,
     "end_time": "2024-10-29T12:43:21.504723",
     "exception": false,
     "start_time": "2024-10-29T12:43:21.112632",
     "status": "completed"
    },
    "tags": []
   },
   "outputs": [
    {
     "data": {
      "image/png": "[encoded data removed]",
      "text/plain": [
       "<Figure size 1000x700 with 1 Axes>"
      ]
     },
     "metadata": {},
     "output_type": "display_data"
    }
   ],
   "source": [
    "import matplotlib.pyplot as plt\n",
    "\n",
    "movie = data[data.type == 'Movie'] # 영화별로\n",
    "tv = data[data.type == 'TV Show'] # tv별로\n",
    "\n",
    "plt.figure(figsize=(10,7))\n",
    "plt.hist([movie['release_year'], tv['release_year']])\n",
    "plt.legend(['Movie','TV Show'])\n",
    "plt.xlabel('release_year')\n",
    "plt.ylabel('number of Movie/TV Show')\n",
    "plt.show()"
   ]
  }
 ],
 "metadata": {
  "kaggle": {
   "accelerator": "none",
   "dataSources": [
    {
     "datasetId": 434238,
     "sourceId": 2654038,
     "sourceType": "datasetVersion"
    }
   ],
   "dockerImageVersionId": 30786,
   "isGpuEnabled": false,
   "isInternetEnabled": false,
   "language": "python",
   "sourceType": "notebook"
  },
  "kernelspec": {
   "display_name": "base",
   "language": "python",
   "name": "python3"
  },
  "language_info": {
   "codemirror_mode": {
    "name": "ipython",
    "version": 3
   },
   "file_extension": ".py",
   "mimetype": "text/x-python",
   "name": "python",
   "nbconvert_exporter": "python",
   "pygments_lexer": "ipython3",
   "version": "3.12.4"
  },
  "papermill": {
   "default_parameters": {},
   "duration": 5.704965,
   "end_time": "2024-10-29T12:43:22.036716",
   "environment_variables": {},
   "exception": null,
   "input_path": "__notebook__.ipynb",
   "output_path": "__notebook__.ipynb",
   "parameters": {},
   "start_time": "2024-10-29T12:43:16.331751",
   "version": "2.6.0"
  }
 },
 "nbformat": 4,
 "nbformat_minor": 5
}
